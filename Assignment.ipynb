{
 "cells": [
  {
   "cell_type": "code",
   "execution_count": 1,
   "metadata": {},
   "outputs": [],
   "source": []
  },
  {
   "cell_type": "code",
   "execution_count": 5,
   "metadata": {},
   "outputs": [
    {
     "name": "stdout",
     "output_type": "stream",
     "text": [
      "<built-in method fetchall of sqlite3.Cursor object at 0x000001532811A180>\n",
      "Operation done successfully\n"
     ]
    }
   ],
   "source": [
    "import sqlite3\n",
    "conn =sqlite3.connect(\"C:\\\\Users\\\\DELL\\\\Desktop\\\\Assignment\\\\data.db\")\n",
    "\n",
    "cursor = conn.execute(\"select account, type, residence, date_joined from Clients\")\n",
    "print(cursor.fetchall)                  \n",
    "# for row in cursor:\n",
    "#    print (\"account = \", row[0])\n",
    "#    print (\"type = \", row[1])\n",
    "#    print (\"residence = \", row[2])\n",
    "#    print (\" date_joined= \", row[3], \"\\n\")\n",
    "print (\"Operation done successfully\")\n",
    "conn.close()"
   ]
  },
  {
   "cell_type": "code",
   "execution_count": 12,
   "metadata": {},
   "outputs": [
    {
     "name": "stdout",
     "output_type": "stream",
     "text": [
      "Operation done successfully\n"
     ]
    }
   ],
   "source": [
    "import sqlite3\n",
    "import pandas as pd\n",
    "conn =sqlite3.connect(\"C:\\\\Users\\\\DELL\\\\Desktop\\\\Assignment\\\\data.db\")\n",
    "query = \"select * from Clients\"\n",
    "client = pd.read_sql(query, conn)\n",
    "print (\"Operation done successfully\")\n",
    "conn.close()"
   ]
  },
  {
   "cell_type": "code",
   "execution_count": 13,
   "metadata": {},
   "outputs": [
    {
     "name": "stdout",
     "output_type": "stream",
     "text": [
      "Operation done successfully\n"
     ]
    }
   ],
   "source": [
    "conn =sqlite3.connect(\"C:\\\\Users\\\\DELL\\\\Desktop\\\\Assignment\\\\data.db\")\n",
    "query = \"select * from Transactions\"\n",
    "transactions = pd.read_sql(query, conn)\n",
    "print (\"Operation done successfully\")\n",
    "conn.close()\n"
   ]
  },
  {
   "cell_type": "code",
   "execution_count": 14,
   "metadata": {},
   "outputs": [
    {
     "name": "stdout",
     "output_type": "stream",
     "text": [
      "Operation done successfully\n"
     ]
    }
   ],
   "source": [
    "conn =sqlite3.connect(\"C:\\\\Users\\\\DELL\\\\Desktop\\\\Assignment\\\\data.db\")\n",
    "query = \"select * from Campaigns\"\n",
    "campaigns = pd.read_sql(query, conn)\n",
    "print (\"Operation done successfully\")\n",
    "conn.close()"
   ]
  },
  {
   "cell_type": "code",
   "execution_count": 15,
   "metadata": {},
   "outputs": [
    {
     "name": "stdout",
     "output_type": "stream",
     "text": [
      "   account    type residence date_joined  indication_coupon  \\\n",
      "0     5019  type_6        ua  2018-06-18                308   \n",
      "1     3655  type_6        ve  2017-09-04                 83   \n",
      "2     2809  type_6        br  2017-01-16                308   \n",
      "3     3876  type_6        mm  2017-11-01                232   \n",
      "4     4973  type_6        lk  2018-06-09                308   \n",
      "\n",
      "   first_deposit_amount first_deposit_date  first_transaction_amount  \\\n",
      "0               9090.91         2018-06-18                       NaN   \n",
      "1               9090.91         2017-09-04                  0.120000   \n",
      "2               9090.91         2017-01-16                  0.205556   \n",
      "3               9090.91         2017-11-01                       NaN   \n",
      "4               9090.91         2018-06-09                  0.110000   \n",
      "\n",
      "  first_transaction_date  balance_amount  \n",
      "0                   None         9090.91  \n",
      "1             2017-09-04      -191834.62  \n",
      "2             2017-01-16     -3679886.14  \n",
      "3                   None       -90909.09  \n",
      "4             2018-06-11         8974.12  \n"
     ]
    }
   ],
   "source": [
    "print(client.head())"
   ]
  },
  {
   "cell_type": "code",
   "execution_count": 16,
   "metadata": {},
   "outputs": [
    {
     "name": "stdout",
     "output_type": "stream",
     "text": [
      "  transaction_date  account  total_buy  total_sell  total_deposits  \\\n",
      "0       2018-05-25     1093        NaN         NaN             NaN   \n",
      "1       2017-03-18     1093       7.50        6.50           100.0   \n",
      "2       2017-03-17     1093      48.63       38.51          1000.0   \n",
      "3       2018-12-10     2622      36.29       32.99             NaN   \n",
      "4       2018-12-09     2622     101.19      102.56             NaN   \n",
      "\n",
      "   total_withdrawals  count_contracts  count_deposits  count_withdrawals  \n",
      "0               3.15                0               0                  1  \n",
      "1                NaN               72               1                  0  \n",
      "2                NaN               93               2                  0  \n",
      "3                NaN               44               0                  0  \n",
      "4                NaN               76               0                  0  \n"
     ]
    }
   ],
   "source": [
    "print(transactions.head())"
   ]
  },
  {
   "cell_type": "code",
   "execution_count": 17,
   "metadata": {},
   "outputs": [
    {
     "name": "stdout",
     "output_type": "stream",
     "text": [
      "   start_date    end_date  total_spend country\n",
      "0  2017-01-03  2017-01-04      9935.67        \n",
      "1  2017-01-04  2017-01-06     17696.41      id\n",
      "2  2017-01-08  2017-01-12     22541.26      in\n",
      "3  2017-02-13  2017-02-18       745.89      ng\n",
      "4  2017-05-02  2017-05-03     15338.78      id\n"
     ]
    }
   ],
   "source": [
    "print(campaigns.head())"
   ]
  },
  {
   "cell_type": "code",
   "execution_count": 19,
   "metadata": {},
   "outputs": [
    {
     "name": "stdout",
     "output_type": "stream",
     "text": [
      "<class 'pandas.core.frame.DataFrame'>\n",
      "RangeIndex: 5000 entries, 0 to 4999\n",
      "Data columns (total 10 columns):\n",
      "account                     5000 non-null int64\n",
      "type                        5000 non-null object\n",
      "residence                   5000 non-null object\n",
      "date_joined                 5000 non-null object\n",
      "indication_coupon           5000 non-null int64\n",
      "first_deposit_amount        3959 non-null float64\n",
      "first_deposit_date          3964 non-null object\n",
      "first_transaction_amount    2606 non-null float64\n",
      "first_transaction_date      2608 non-null object\n",
      "balance_amount              3964 non-null float64\n",
      "dtypes: float64(3), int64(2), object(5)\n",
      "memory usage: 390.7+ KB\n"
     ]
    }
   ],
   "source": [
    "client.info()"
   ]
  },
  {
   "cell_type": "code",
   "execution_count": null,
   "metadata": {},
   "outputs": [],
   "source": []
  }
 ],
 "metadata": {
  "kernelspec": {
   "display_name": "Python 3",
   "language": "python",
   "name": "python3"
  },
  "language_info": {
   "codemirror_mode": {
    "name": "ipython",
    "version": 3
   },
   "file_extension": ".py",
   "mimetype": "text/x-python",
   "name": "python",
   "nbconvert_exporter": "python",
   "pygments_lexer": "ipython3",
   "version": "3.6.5"
  }
 },
 "nbformat": 4,
 "nbformat_minor": 2
}
